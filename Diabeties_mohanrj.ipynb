{
  "nbformat": 4,
  "nbformat_minor": 0,
  "metadata": {
    "colab": {
      "name": "Diabeties_mohanrj.ipynb",
      "provenance": []
    },
    "kernelspec": {
      "name": "python3",
      "display_name": "Python 3"
    },
    "accelerator": "GPU"
  },
  "cells": [
    {
      "cell_type": "code",
      "metadata": {
        "id": "LuIfBWKUuWKb",
        "colab_type": "code",
        "colab": {}
      },
      "source": [
        "from keras.models import Sequential\n",
        "from keras.layers import Dense\n",
        "import numpy\n",
        "import pandas as pd"
      ],
      "execution_count": 0,
      "outputs": []
    },
    {
      "cell_type": "code",
      "metadata": {
        "id": "5pRzfY6VujAf",
        "colab_type": "code",
        "colab": {
          "base_uri": "https://localhost:8080/",
          "height": 148
        },
        "outputId": "d8e231a8-f07e-4626-f158-2800d39ecf3b"
      },
      "source": [
        "!git clone https://github.com/mohanrajmit/Image-Read.git"
      ],
      "execution_count": 4,
      "outputs": [
        {
          "output_type": "stream",
          "text": [
            "Cloning into 'Image-Read'...\n",
            "remote: Enumerating objects: 9, done.\u001b[K\n",
            "remote: Counting objects: 100% (9/9), done.\u001b[K\n",
            "remote: Compressing objects: 100% (9/9), done.\u001b[K\n",
            "remote: Total 3062 (delta 3), reused 0 (delta 0), pack-reused 3053\u001b[K\n",
            "Receiving objects: 100% (3062/3062), 190.64 MiB | 10.69 MiB/s, done.\n",
            "Resolving deltas: 100% (20/20), done.\n"
          ],
          "name": "stdout"
        }
      ]
    },
    {
      "cell_type": "code",
      "metadata": {
        "id": "xE1Z4TfEu7zn",
        "colab_type": "code",
        "colab": {}
      },
      "source": [
        "# fix random seed for reproducibility\n",
        "seed = 7\n",
        "numpy.random.seed(seed)\n",
        "# load pima indians dataset\n",
        "dataset = numpy.loadtxt(\"/content/Image-Read/pima-indians-diabetes.csv\", delimiter=\",\")\n",
        "# split into input (X) and output (Y) variables\n",
        "X = dataset[:,0:8]\n",
        "Y = dataset[:,8]"
      ],
      "execution_count": 0,
      "outputs": []
    },
    {
      "cell_type": "code",
      "metadata": {
        "id": "8yzrFbHCvC8Q",
        "colab_type": "code",
        "colab": {
          "base_uri": "https://localhost:8080/",
          "height": 299
        },
        "outputId": "ec81ac8e-29c5-46b2-af51-bf8a8027b3f8"
      },
      "source": [
        "# create model\n",
        "model = Sequential()\n",
        "model.add(Dense(12, input_dim=8, init='uniform', activation='relu'))\n",
        "model.add(Dense(8, init='uniform', activation='relu'))\n",
        "model.add(Dense(8, init='uniform', activation='relu'))\n",
        "model.add(Dense(1, init='uniform', activation='sigmoid'))\n",
        "# Compile model"
      ],
      "execution_count": 6,
      "outputs": [
        {
          "output_type": "stream",
          "text": [
            "WARNING:tensorflow:From /usr/local/lib/python3.6/dist-packages/keras/backend/tensorflow_backend.py:66: The name tf.get_default_graph is deprecated. Please use tf.compat.v1.get_default_graph instead.\n",
            "\n",
            "WARNING:tensorflow:From /usr/local/lib/python3.6/dist-packages/keras/backend/tensorflow_backend.py:541: The name tf.placeholder is deprecated. Please use tf.compat.v1.placeholder instead.\n",
            "\n",
            "WARNING:tensorflow:From /usr/local/lib/python3.6/dist-packages/keras/backend/tensorflow_backend.py:4432: The name tf.random_uniform is deprecated. Please use tf.random.uniform instead.\n",
            "\n"
          ],
          "name": "stdout"
        },
        {
          "output_type": "stream",
          "text": [
            "/usr/local/lib/python3.6/dist-packages/ipykernel_launcher.py:2: UserWarning: Update your `Dense` call to the Keras 2 API: `Dense(12, input_dim=8, activation=\"relu\", kernel_initializer=\"uniform\")`\n",
            "  \n",
            "/usr/local/lib/python3.6/dist-packages/ipykernel_launcher.py:3: UserWarning: Update your `Dense` call to the Keras 2 API: `Dense(8, activation=\"relu\", kernel_initializer=\"uniform\")`\n",
            "  This is separate from the ipykernel package so we can avoid doing imports until\n",
            "/usr/local/lib/python3.6/dist-packages/ipykernel_launcher.py:4: UserWarning: Update your `Dense` call to the Keras 2 API: `Dense(8, activation=\"relu\", kernel_initializer=\"uniform\")`\n",
            "  after removing the cwd from sys.path.\n",
            "/usr/local/lib/python3.6/dist-packages/ipykernel_launcher.py:5: UserWarning: Update your `Dense` call to the Keras 2 API: `Dense(1, activation=\"sigmoid\", kernel_initializer=\"uniform\")`\n",
            "  \"\"\"\n"
          ],
          "name": "stderr"
        }
      ]
    },
    {
      "cell_type": "code",
      "metadata": {
        "id": "k7yXrhKwvQyl",
        "colab_type": "code",
        "colab": {
          "base_uri": "https://localhost:8080/",
          "height": 168
        },
        "outputId": "2d5f8eb6-52a8-4766-abf8-0d47d7bf7312"
      },
      "source": [
        "model.compile(loss='binary_crossentropy', optimizer='adam', metrics=['accuracy'])"
      ],
      "execution_count": 7,
      "outputs": [
        {
          "output_type": "stream",
          "text": [
            "WARNING:tensorflow:From /usr/local/lib/python3.6/dist-packages/keras/optimizers.py:793: The name tf.train.Optimizer is deprecated. Please use tf.compat.v1.train.Optimizer instead.\n",
            "\n",
            "WARNING:tensorflow:From /usr/local/lib/python3.6/dist-packages/keras/backend/tensorflow_backend.py:3657: The name tf.log is deprecated. Please use tf.math.log instead.\n",
            "\n",
            "WARNING:tensorflow:From /usr/local/lib/python3.6/dist-packages/tensorflow_core/python/ops/nn_impl.py:183: where (from tensorflow.python.ops.array_ops) is deprecated and will be removed in a future version.\n",
            "Instructions for updating:\n",
            "Use tf.where in 2.0, which has the same broadcast rule as np.where\n"
          ],
          "name": "stdout"
        }
      ]
    },
    {
      "cell_type": "code",
      "metadata": {
        "id": "cWL__zJLve4D",
        "colab_type": "code",
        "colab": {
          "base_uri": "https://localhost:8080/",
          "height": 316
        },
        "outputId": "cb206912-5402-450d-8685-7c26d3f6957d"
      },
      "source": [
        "model.summary()"
      ],
      "execution_count": 8,
      "outputs": [
        {
          "output_type": "stream",
          "text": [
            "Model: \"sequential_1\"\n",
            "_________________________________________________________________\n",
            "Layer (type)                 Output Shape              Param #   \n",
            "=================================================================\n",
            "dense_1 (Dense)              (None, 12)                108       \n",
            "_________________________________________________________________\n",
            "dense_2 (Dense)              (None, 8)                 104       \n",
            "_________________________________________________________________\n",
            "dense_3 (Dense)              (None, 8)                 72        \n",
            "_________________________________________________________________\n",
            "dense_4 (Dense)              (None, 1)                 9         \n",
            "=================================================================\n",
            "Total params: 293\n",
            "Trainable params: 293\n",
            "Non-trainable params: 0\n",
            "_________________________________________________________________\n"
          ],
          "name": "stdout"
        }
      ]
    },
    {
      "cell_type": "code",
      "metadata": {
        "id": "fpl6bWPcv6RJ",
        "colab_type": "code",
        "colab": {
          "base_uri": "https://localhost:8080/",
          "height": 1000
        },
        "outputId": "2b35f4de-a044-442b-ce7b-6143a27e9e30"
      },
      "source": [
        "# Fit the model\n",
        "model.fit(X, Y, nb_epoch=150, batch_size=50)"
      ],
      "execution_count": 13,
      "outputs": [
        {
          "output_type": "stream",
          "text": [
            "Epoch 1/150\n",
            "768/768 [==============================] - 0s 89us/step - loss: 0.4203 - acc: 0.8034\n",
            "Epoch 2/150\n",
            "768/768 [==============================] - 0s 90us/step - loss: 0.4139 - acc: 0.8125\n",
            "Epoch 3/150\n",
            "768/768 [==============================] - 0s 75us/step - loss: 0.4187 - acc: 0.8073\n"
          ],
          "name": "stdout"
        },
        {
          "output_type": "stream",
          "text": [
            "/usr/local/lib/python3.6/dist-packages/ipykernel_launcher.py:1: UserWarning: The `nb_epoch` argument in `fit` has been renamed `epochs`.\n",
            "  \"\"\"Entry point for launching an IPython kernel.\n"
          ],
          "name": "stderr"
        },
        {
          "output_type": "stream",
          "text": [
            "Epoch 4/150\n",
            "768/768 [==============================] - 0s 86us/step - loss: 0.4149 - acc: 0.8125\n",
            "Epoch 5/150\n",
            "768/768 [==============================] - 0s 85us/step - loss: 0.4172 - acc: 0.7969\n",
            "Epoch 6/150\n",
            "768/768 [==============================] - 0s 97us/step - loss: 0.4126 - acc: 0.8125\n",
            "Epoch 7/150\n",
            "768/768 [==============================] - 0s 102us/step - loss: 0.4109 - acc: 0.8073\n",
            "Epoch 8/150\n",
            "768/768 [==============================] - 0s 90us/step - loss: 0.4089 - acc: 0.8125\n",
            "Epoch 9/150\n",
            "768/768 [==============================] - 0s 85us/step - loss: 0.4162 - acc: 0.8060\n",
            "Epoch 10/150\n",
            "768/768 [==============================] - 0s 86us/step - loss: 0.4193 - acc: 0.8138\n",
            "Epoch 11/150\n",
            "768/768 [==============================] - 0s 97us/step - loss: 0.4148 - acc: 0.8034\n",
            "Epoch 12/150\n",
            "768/768 [==============================] - 0s 79us/step - loss: 0.4171 - acc: 0.8177\n",
            "Epoch 13/150\n",
            "768/768 [==============================] - 0s 81us/step - loss: 0.4122 - acc: 0.8034\n",
            "Epoch 14/150\n",
            "768/768 [==============================] - 0s 95us/step - loss: 0.4238 - acc: 0.8034\n",
            "Epoch 15/150\n",
            "768/768 [==============================] - 0s 92us/step - loss: 0.4265 - acc: 0.7995\n",
            "Epoch 16/150\n",
            "768/768 [==============================] - 0s 82us/step - loss: 0.4164 - acc: 0.8125\n",
            "Epoch 17/150\n",
            "768/768 [==============================] - 0s 75us/step - loss: 0.4171 - acc: 0.8021\n",
            "Epoch 18/150\n",
            "768/768 [==============================] - 0s 77us/step - loss: 0.4182 - acc: 0.8034\n",
            "Epoch 19/150\n",
            "768/768 [==============================] - 0s 75us/step - loss: 0.4254 - acc: 0.7969\n",
            "Epoch 20/150\n",
            "768/768 [==============================] - 0s 85us/step - loss: 0.4272 - acc: 0.7904\n",
            "Epoch 21/150\n",
            "768/768 [==============================] - 0s 85us/step - loss: 0.4144 - acc: 0.8073\n",
            "Epoch 22/150\n",
            "768/768 [==============================] - 0s 90us/step - loss: 0.4127 - acc: 0.8073\n",
            "Epoch 23/150\n",
            "768/768 [==============================] - 0s 84us/step - loss: 0.4082 - acc: 0.8138\n",
            "Epoch 24/150\n",
            "768/768 [==============================] - 0s 81us/step - loss: 0.4110 - acc: 0.8164\n",
            "Epoch 25/150\n",
            "768/768 [==============================] - 0s 83us/step - loss: 0.4189 - acc: 0.7969\n",
            "Epoch 26/150\n",
            "768/768 [==============================] - 0s 114us/step - loss: 0.4138 - acc: 0.8112\n",
            "Epoch 27/150\n",
            "768/768 [==============================] - 0s 85us/step - loss: 0.4079 - acc: 0.8099\n",
            "Epoch 28/150\n",
            "768/768 [==============================] - 0s 85us/step - loss: 0.4303 - acc: 0.8008\n",
            "Epoch 29/150\n",
            "768/768 [==============================] - 0s 92us/step - loss: 0.4164 - acc: 0.8073\n",
            "Epoch 30/150\n",
            "768/768 [==============================] - 0s 83us/step - loss: 0.4150 - acc: 0.8086\n",
            "Epoch 31/150\n",
            "768/768 [==============================] - 0s 85us/step - loss: 0.4144 - acc: 0.8021\n",
            "Epoch 32/150\n",
            "768/768 [==============================] - 0s 101us/step - loss: 0.4057 - acc: 0.8190\n",
            "Epoch 33/150\n",
            "768/768 [==============================] - 0s 106us/step - loss: 0.4075 - acc: 0.8125\n",
            "Epoch 34/150\n",
            "768/768 [==============================] - 0s 87us/step - loss: 0.4163 - acc: 0.8060\n",
            "Epoch 35/150\n",
            "768/768 [==============================] - 0s 84us/step - loss: 0.4100 - acc: 0.8112\n",
            "Epoch 36/150\n",
            "768/768 [==============================] - 0s 76us/step - loss: 0.4114 - acc: 0.8073\n",
            "Epoch 37/150\n",
            "768/768 [==============================] - 0s 84us/step - loss: 0.4070 - acc: 0.8112\n",
            "Epoch 38/150\n",
            "768/768 [==============================] - 0s 94us/step - loss: 0.4187 - acc: 0.8099\n",
            "Epoch 39/150\n",
            "768/768 [==============================] - 0s 80us/step - loss: 0.4102 - acc: 0.8112\n",
            "Epoch 40/150\n",
            "768/768 [==============================] - 0s 75us/step - loss: 0.4085 - acc: 0.8125\n",
            "Epoch 41/150\n",
            "768/768 [==============================] - 0s 76us/step - loss: 0.4088 - acc: 0.8125\n",
            "Epoch 42/150\n",
            "768/768 [==============================] - 0s 78us/step - loss: 0.4056 - acc: 0.8086\n",
            "Epoch 43/150\n",
            "768/768 [==============================] - 0s 81us/step - loss: 0.4091 - acc: 0.8112\n",
            "Epoch 44/150\n",
            "768/768 [==============================] - 0s 90us/step - loss: 0.4110 - acc: 0.8138\n",
            "Epoch 45/150\n",
            "768/768 [==============================] - 0s 86us/step - loss: 0.4119 - acc: 0.8047\n",
            "Epoch 46/150\n",
            "768/768 [==============================] - 0s 85us/step - loss: 0.4055 - acc: 0.8164\n",
            "Epoch 47/150\n",
            "768/768 [==============================] - 0s 78us/step - loss: 0.4240 - acc: 0.8177\n",
            "Epoch 48/150\n",
            "768/768 [==============================] - 0s 82us/step - loss: 0.4189 - acc: 0.7943\n",
            "Epoch 49/150\n",
            "768/768 [==============================] - 0s 74us/step - loss: 0.4215 - acc: 0.8099\n",
            "Epoch 50/150\n",
            "768/768 [==============================] - 0s 83us/step - loss: 0.4069 - acc: 0.8112\n",
            "Epoch 51/150\n",
            "768/768 [==============================] - 0s 98us/step - loss: 0.4051 - acc: 0.8151\n",
            "Epoch 52/150\n",
            "768/768 [==============================] - 0s 104us/step - loss: 0.4020 - acc: 0.8112\n",
            "Epoch 53/150\n",
            "768/768 [==============================] - 0s 87us/step - loss: 0.4026 - acc: 0.8190\n",
            "Epoch 54/150\n",
            "768/768 [==============================] - 0s 96us/step - loss: 0.4094 - acc: 0.8034\n",
            "Epoch 55/150\n",
            "768/768 [==============================] - 0s 94us/step - loss: 0.4173 - acc: 0.8060\n",
            "Epoch 56/150\n",
            "768/768 [==============================] - 0s 80us/step - loss: 0.4151 - acc: 0.8047\n",
            "Epoch 57/150\n",
            "768/768 [==============================] - 0s 74us/step - loss: 0.4082 - acc: 0.8086\n",
            "Epoch 58/150\n",
            "768/768 [==============================] - 0s 78us/step - loss: 0.4023 - acc: 0.8047\n",
            "Epoch 59/150\n",
            "768/768 [==============================] - 0s 75us/step - loss: 0.4016 - acc: 0.8112\n",
            "Epoch 60/150\n",
            "768/768 [==============================] - 0s 91us/step - loss: 0.4008 - acc: 0.8229\n",
            "Epoch 61/150\n",
            "768/768 [==============================] - 0s 81us/step - loss: 0.4147 - acc: 0.8112\n",
            "Epoch 62/150\n",
            "768/768 [==============================] - 0s 85us/step - loss: 0.4014 - acc: 0.8112\n",
            "Epoch 63/150\n",
            "768/768 [==============================] - 0s 91us/step - loss: 0.4050 - acc: 0.8242\n",
            "Epoch 64/150\n",
            "768/768 [==============================] - 0s 83us/step - loss: 0.4230 - acc: 0.8099\n",
            "Epoch 65/150\n",
            "768/768 [==============================] - 0s 86us/step - loss: 0.3997 - acc: 0.8099\n",
            "Epoch 66/150\n",
            "768/768 [==============================] - 0s 80us/step - loss: 0.4055 - acc: 0.8125\n",
            "Epoch 67/150\n",
            "768/768 [==============================] - 0s 80us/step - loss: 0.4183 - acc: 0.8086\n",
            "Epoch 68/150\n",
            "768/768 [==============================] - 0s 86us/step - loss: 0.4016 - acc: 0.8138\n",
            "Epoch 69/150\n",
            "768/768 [==============================] - 0s 87us/step - loss: 0.4000 - acc: 0.8138\n",
            "Epoch 70/150\n",
            "768/768 [==============================] - 0s 94us/step - loss: 0.4090 - acc: 0.8099\n",
            "Epoch 71/150\n",
            "768/768 [==============================] - 0s 85us/step - loss: 0.4039 - acc: 0.8125\n",
            "Epoch 72/150\n",
            "768/768 [==============================] - 0s 75us/step - loss: 0.3989 - acc: 0.8203\n",
            "Epoch 73/150\n",
            "768/768 [==============================] - 0s 115us/step - loss: 0.4069 - acc: 0.8021\n",
            "Epoch 74/150\n",
            "768/768 [==============================] - 0s 97us/step - loss: 0.3996 - acc: 0.8138\n",
            "Epoch 75/150\n",
            "768/768 [==============================] - 0s 92us/step - loss: 0.4084 - acc: 0.8086\n",
            "Epoch 76/150\n",
            "768/768 [==============================] - 0s 89us/step - loss: 0.4107 - acc: 0.8086\n",
            "Epoch 77/150\n",
            "768/768 [==============================] - 0s 83us/step - loss: 0.4215 - acc: 0.8021\n",
            "Epoch 78/150\n",
            "768/768 [==============================] - 0s 82us/step - loss: 0.4109 - acc: 0.8099\n",
            "Epoch 79/150\n",
            "768/768 [==============================] - 0s 87us/step - loss: 0.4106 - acc: 0.8073\n",
            "Epoch 80/150\n",
            "768/768 [==============================] - 0s 86us/step - loss: 0.4045 - acc: 0.8164\n",
            "Epoch 81/150\n",
            "768/768 [==============================] - 0s 86us/step - loss: 0.4007 - acc: 0.8164\n",
            "Epoch 82/150\n",
            "768/768 [==============================] - 0s 108us/step - loss: 0.4011 - acc: 0.8190\n",
            "Epoch 83/150\n",
            "768/768 [==============================] - 0s 94us/step - loss: 0.4175 - acc: 0.8060\n",
            "Epoch 84/150\n",
            "768/768 [==============================] - 0s 97us/step - loss: 0.4029 - acc: 0.8060\n",
            "Epoch 85/150\n",
            "768/768 [==============================] - 0s 106us/step - loss: 0.4009 - acc: 0.8307\n",
            "Epoch 86/150\n",
            "768/768 [==============================] - 0s 95us/step - loss: 0.4134 - acc: 0.8138\n",
            "Epoch 87/150\n",
            "768/768 [==============================] - 0s 87us/step - loss: 0.4029 - acc: 0.8099\n",
            "Epoch 88/150\n",
            "768/768 [==============================] - 0s 89us/step - loss: 0.4036 - acc: 0.8138\n",
            "Epoch 89/150\n",
            "768/768 [==============================] - 0s 98us/step - loss: 0.4035 - acc: 0.8086\n",
            "Epoch 90/150\n",
            "768/768 [==============================] - 0s 88us/step - loss: 0.4070 - acc: 0.8060\n",
            "Epoch 91/150\n",
            "768/768 [==============================] - 0s 90us/step - loss: 0.4002 - acc: 0.8125\n",
            "Epoch 92/150\n",
            "768/768 [==============================] - 0s 76us/step - loss: 0.4005 - acc: 0.8151\n",
            "Epoch 93/150\n",
            "768/768 [==============================] - 0s 78us/step - loss: 0.3977 - acc: 0.8125\n",
            "Epoch 94/150\n",
            "768/768 [==============================] - 0s 81us/step - loss: 0.4133 - acc: 0.8164\n",
            "Epoch 95/150\n",
            "768/768 [==============================] - 0s 86us/step - loss: 0.3992 - acc: 0.8151\n",
            "Epoch 96/150\n",
            "768/768 [==============================] - 0s 79us/step - loss: 0.3935 - acc: 0.8177\n",
            "Epoch 97/150\n",
            "768/768 [==============================] - 0s 79us/step - loss: 0.3978 - acc: 0.8164\n",
            "Epoch 98/150\n",
            "768/768 [==============================] - 0s 89us/step - loss: 0.3979 - acc: 0.8203\n",
            "Epoch 99/150\n",
            "768/768 [==============================] - 0s 88us/step - loss: 0.3948 - acc: 0.8151\n",
            "Epoch 100/150\n",
            "768/768 [==============================] - 0s 100us/step - loss: 0.4050 - acc: 0.8086\n",
            "Epoch 101/150\n",
            "768/768 [==============================] - 0s 89us/step - loss: 0.4125 - acc: 0.8125\n",
            "Epoch 102/150\n",
            "768/768 [==============================] - 0s 88us/step - loss: 0.4375 - acc: 0.7917\n",
            "Epoch 103/150\n",
            "768/768 [==============================] - 0s 89us/step - loss: 0.4124 - acc: 0.8112\n",
            "Epoch 104/150\n",
            "768/768 [==============================] - 0s 90us/step - loss: 0.3999 - acc: 0.8164\n",
            "Epoch 105/150\n",
            "768/768 [==============================] - 0s 81us/step - loss: 0.3968 - acc: 0.8086\n",
            "Epoch 106/150\n",
            "768/768 [==============================] - 0s 82us/step - loss: 0.4222 - acc: 0.8073\n",
            "Epoch 107/150\n",
            "768/768 [==============================] - 0s 84us/step - loss: 0.4000 - acc: 0.8086\n",
            "Epoch 108/150\n",
            "768/768 [==============================] - 0s 90us/step - loss: 0.3982 - acc: 0.8242\n",
            "Epoch 109/150\n",
            "768/768 [==============================] - 0s 100us/step - loss: 0.3997 - acc: 0.8164\n",
            "Epoch 110/150\n",
            "768/768 [==============================] - 0s 87us/step - loss: 0.4098 - acc: 0.8047\n",
            "Epoch 111/150\n",
            "768/768 [==============================] - 0s 89us/step - loss: 0.4090 - acc: 0.8151\n",
            "Epoch 112/150\n",
            "768/768 [==============================] - 0s 85us/step - loss: 0.4026 - acc: 0.8125\n",
            "Epoch 113/150\n",
            "768/768 [==============================] - 0s 84us/step - loss: 0.3962 - acc: 0.8099\n",
            "Epoch 114/150\n",
            "768/768 [==============================] - 0s 82us/step - loss: 0.3976 - acc: 0.8125\n",
            "Epoch 115/150\n",
            "768/768 [==============================] - 0s 87us/step - loss: 0.3991 - acc: 0.8151\n",
            "Epoch 116/150\n",
            "768/768 [==============================] - 0s 89us/step - loss: 0.4073 - acc: 0.8125\n",
            "Epoch 117/150\n",
            "768/768 [==============================] - 0s 83us/step - loss: 0.3970 - acc: 0.8190\n",
            "Epoch 118/150\n",
            "768/768 [==============================] - 0s 85us/step - loss: 0.3972 - acc: 0.8190\n",
            "Epoch 119/150\n",
            "768/768 [==============================] - 0s 102us/step - loss: 0.4172 - acc: 0.8060\n",
            "Epoch 120/150\n",
            "768/768 [==============================] - 0s 113us/step - loss: 0.3951 - acc: 0.8125\n",
            "Epoch 121/150\n",
            "768/768 [==============================] - 0s 85us/step - loss: 0.4068 - acc: 0.8151\n",
            "Epoch 122/150\n",
            "768/768 [==============================] - 0s 88us/step - loss: 0.3962 - acc: 0.8190\n",
            "Epoch 123/150\n",
            "768/768 [==============================] - 0s 84us/step - loss: 0.3931 - acc: 0.8307\n",
            "Epoch 124/150\n",
            "768/768 [==============================] - 0s 89us/step - loss: 0.3930 - acc: 0.8190\n",
            "Epoch 125/150\n",
            "768/768 [==============================] - 0s 84us/step - loss: 0.3938 - acc: 0.8177\n",
            "Epoch 126/150\n",
            "768/768 [==============================] - 0s 98us/step - loss: 0.3901 - acc: 0.8229\n",
            "Epoch 127/150\n",
            "768/768 [==============================] - 0s 86us/step - loss: 0.3925 - acc: 0.8268\n",
            "Epoch 128/150\n",
            "768/768 [==============================] - 0s 89us/step - loss: 0.3922 - acc: 0.8216\n",
            "Epoch 129/150\n",
            "768/768 [==============================] - 0s 84us/step - loss: 0.3954 - acc: 0.8177\n",
            "Epoch 130/150\n",
            "768/768 [==============================] - 0s 83us/step - loss: 0.4033 - acc: 0.8164\n",
            "Epoch 131/150\n",
            "768/768 [==============================] - 0s 91us/step - loss: 0.3969 - acc: 0.8216\n",
            "Epoch 132/150\n",
            "768/768 [==============================] - 0s 71us/step - loss: 0.3981 - acc: 0.8164\n",
            "Epoch 133/150\n",
            "768/768 [==============================] - 0s 77us/step - loss: 0.3999 - acc: 0.8138\n",
            "Epoch 134/150\n",
            "768/768 [==============================] - 0s 89us/step - loss: 0.3984 - acc: 0.8151\n",
            "Epoch 135/150\n",
            "768/768 [==============================] - 0s 82us/step - loss: 0.4087 - acc: 0.8138\n",
            "Epoch 136/150\n",
            "768/768 [==============================] - 0s 75us/step - loss: 0.3912 - acc: 0.8203\n",
            "Epoch 137/150\n",
            "768/768 [==============================] - 0s 75us/step - loss: 0.3978 - acc: 0.8177\n",
            "Epoch 138/150\n",
            "768/768 [==============================] - 0s 80us/step - loss: 0.3932 - acc: 0.8190\n",
            "Epoch 139/150\n",
            "768/768 [==============================] - 0s 84us/step - loss: 0.4060 - acc: 0.8086\n",
            "Epoch 140/150\n",
            "768/768 [==============================] - 0s 85us/step - loss: 0.4075 - acc: 0.8216\n",
            "Epoch 141/150\n",
            "768/768 [==============================] - 0s 86us/step - loss: 0.3950 - acc: 0.8190\n",
            "Epoch 142/150\n",
            "768/768 [==============================] - 0s 79us/step - loss: 0.3871 - acc: 0.8203\n",
            "Epoch 143/150\n",
            "768/768 [==============================] - 0s 78us/step - loss: 0.3920 - acc: 0.8281\n",
            "Epoch 144/150\n",
            "768/768 [==============================] - 0s 77us/step - loss: 0.3953 - acc: 0.8242\n",
            "Epoch 145/150\n",
            "768/768 [==============================] - 0s 74us/step - loss: 0.4031 - acc: 0.8060\n",
            "Epoch 146/150\n",
            "768/768 [==============================] - 0s 75us/step - loss: 0.3942 - acc: 0.8138\n",
            "Epoch 147/150\n",
            "768/768 [==============================] - 0s 74us/step - loss: 0.3907 - acc: 0.8099\n",
            "Epoch 148/150\n",
            "768/768 [==============================] - 0s 97us/step - loss: 0.3881 - acc: 0.8177\n",
            "Epoch 149/150\n",
            "768/768 [==============================] - 0s 81us/step - loss: 0.3923 - acc: 0.8203\n",
            "Epoch 150/150\n",
            "768/768 [==============================] - 0s 84us/step - loss: 0.3911 - acc: 0.8151\n"
          ],
          "name": "stdout"
        },
        {
          "output_type": "execute_result",
          "data": {
            "text/plain": [
              "<keras.callbacks.History at 0x7f3a56e3a0f0>"
            ]
          },
          "metadata": {
            "tags": []
          },
          "execution_count": 13
        }
      ]
    },
    {
      "cell_type": "code",
      "metadata": {
        "id": "8UXd38FFw4C8",
        "colab_type": "code",
        "colab": {
          "base_uri": "https://localhost:8080/",
          "height": 54
        },
        "outputId": "1a79f701-5252-4c54-a39b-a36a8743416e"
      },
      "source": [
        "# evaluate the model\n",
        "scores = model.evaluate(X, Y)\n",
        "print(\"%s: %.2f%%\" % (model.metrics_names[1], scores[1]*100))"
      ],
      "execution_count": 14,
      "outputs": [
        {
          "output_type": "stream",
          "text": [
            "768/768 [==============================] - 0s 48us/step\n",
            "acc: 81.64%\n"
          ],
          "name": "stdout"
        }
      ]
    },
    {
      "cell_type": "code",
      "metadata": {
        "id": "zymDctGQyhMD",
        "colab_type": "code",
        "colab": {}
      },
      "source": [
        "predictions = model.predict_classes(X)\n",
        "\n",
        "predictions = list(predictions)\n",
        "actuals = list(Y)\n",
        "\n",
        "sub = pd.DataFrame({'Actual': actuals, 'Predictions': predictions})\n",
        "sub.to_csv('output1.csv', index=False)"
      ],
      "execution_count": 0,
      "outputs": []
    }
  ]
}